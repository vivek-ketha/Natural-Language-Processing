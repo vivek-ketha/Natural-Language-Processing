{
 "cells": [
  {
   "cell_type": "code",
   "execution_count": null,
   "id": "22ac7bfb",
   "metadata": {},
   "outputs": [],
   "source": [
    "import fasttext\n",
    "\n",
    "# Load the training data\n",
    "train_data = \"path/to/train_data.txt\"\n",
    "\n",
    "# Train the language detection model\n",
    "model = fasttext.train_supervised(input=train_data, lr=1.0, epoch=25, wordNgrams=2)\n",
    "\n",
    "# Save the trained model\n",
    "model.save_model(\"path/to/model.bin\")\n",
    "\n",
    "# Load the trained model\n",
    "model = fasttext.load_model(\"path/to/model.bin\")\n",
    "\n",
    "# Predict the language of a text sample\n",
    "text_sample = \"This is a text in English.\"\n",
    "predicted_language = model.predict(text_sample)\n",
    "\n",
    "print(predicted_language)\n"
   ]
  }
 ],
 "metadata": {
  "kernelspec": {
   "display_name": "Python 3 (ipykernel)",
   "language": "python",
   "name": "python3"
  },
  "language_info": {
   "codemirror_mode": {
    "name": "ipython",
    "version": 3
   },
   "file_extension": ".py",
   "mimetype": "text/x-python",
   "name": "python",
   "nbconvert_exporter": "python",
   "pygments_lexer": "ipython3",
   "version": "3.10.9"
  }
 },
 "nbformat": 4,
 "nbformat_minor": 5
}
