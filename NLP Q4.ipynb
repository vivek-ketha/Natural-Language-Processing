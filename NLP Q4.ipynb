{
 "cells": [
  {
   "cell_type": "code",
   "execution_count": null,
   "id": "a44613f3",
   "metadata": {},
   "outputs": [],
   "source": [
    "import nltk\n",
    "from nltk.tokenize import sent_tokenize\n",
    "from nltk.corpus import stopwords\n",
    "from sklearn.metrics.pairwise import cosine_similarity\n",
    "import numpy as np\n",
    "\n",
    "# Read the text file\n",
    "with open('your_text_file.txt', 'r') as file:\n",
    "    text = file.read()\n",
    "\n",
    "# Preprocess the text\n",
    "text = text.lower()\n",
    "text = text.replace('\\n', ' ')\n",
    "text = text.replace('\\t', ' ')\n",
    "\n",
    "# Tokenize the text into sentences\n",
    "sentences = sent_tokenize(text)\n",
    "\n",
    "# Remove stopwords\n",
    "stop_words = set(stopwords.words('english'))\n",
    "filtered_sentences = [sentence for sentence in sentences if sentence not in stop_words]\n",
    "\n",
    "# Calculate sentence similarity matrix\n",
    "vectorizer = TfidfVectorizer()\n",
    "sentence_vectors = vectorizer.fit_transform(filtered_sentences)\n",
    "similarity_matrix = cosine_similarity(sentence_vectors, sentence_vectors)\n",
    "\n",
    "# Apply PageRank algorithm\n",
    "scores = np.sum(similarity_matrix, axis=1)\n",
    "ranked_sentences = [sentence for _, sentence in sorted(zip(scores, filtered_sentences), reverse=True)]\n",
    "\n",
    "# Set the number of sentences for the summary\n",
    "num_sentences = 3\n",
    "summary_sentences = ranked_sentences[:num_sentences]\n",
    "\n",
    "# Generate the summary\n",
    "summary = ' '.join(summary_sentences)\n",
    "\n",
    "# Print the summary\n",
    "print(summary)\n"
   ]
  }
 ],
 "metadata": {
  "kernelspec": {
   "display_name": "Python 3 (ipykernel)",
   "language": "python",
   "name": "python3"
  },
  "language_info": {
   "codemirror_mode": {
    "name": "ipython",
    "version": 3
   },
   "file_extension": ".py",
   "mimetype": "text/x-python",
   "name": "python",
   "nbconvert_exporter": "python",
   "pygments_lexer": "ipython3",
   "version": "3.10.9"
  }
 },
 "nbformat": 4,
 "nbformat_minor": 5
}
