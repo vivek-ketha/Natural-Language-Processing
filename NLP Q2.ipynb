{
 "cells": [
  {
   "cell_type": "code",
   "execution_count": null,
   "id": "2be4dea9",
   "metadata": {},
   "outputs": [],
   "source": [
    "import PyPDF2\n",
    "import csv\n",
    "from collections import Counter\n",
    "\n",
    "# Open and read the PDF file\n",
    "with open('your_file.pdf', 'rb') as file:\n",
    "    reader = PyPDF2.PdfReader(file)\n",
    "\n",
    "    # Extract text from the PDF\n",
    "    text = ''\n",
    "    for page in reader.pages:\n",
    "        text += page.extractText()\n",
    "\n",
    "    # Clean and preprocess the text\n",
    "    text = text.replace('\\n', ' ').replace('\\r', '')\n",
    "    # Add more cleaning steps if necessary\n",
    "\n",
    "    # Count word frequency\n",
    "    words = text.split()\n",
    "    word_counts = Counter(words)\n",
    "\n",
    "    # Find the most repeated word\n",
    "    most_common_word = word_counts.most_common(1)[0][0]\n",
    "\n",
    "    # Store results in a CSV file\n",
    "    with open('output.csv', 'w', newline='', encoding='utf-8') as csvfile:\n",
    "        writer = csv.writer(csvfile)\n",
    "        writer.writerow(['Text', 'Word Frequency'])\n",
    "        writer.writerow([text, word_counts])\n",
    "\n",
    "    print('Most repeated word:', most_common_word)\n"
   ]
  }
 ],
 "metadata": {
  "kernelspec": {
   "display_name": "Python 3 (ipykernel)",
   "language": "python",
   "name": "python3"
  },
  "language_info": {
   "codemirror_mode": {
    "name": "ipython",
    "version": 3
   },
   "file_extension": ".py",
   "mimetype": "text/x-python",
   "name": "python",
   "nbconvert_exporter": "python",
   "pygments_lexer": "ipython3",
   "version": "3.10.9"
  }
 },
 "nbformat": 4,
 "nbformat_minor": 5
}
